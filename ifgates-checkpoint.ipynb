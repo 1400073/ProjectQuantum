{
 "cells": [
  {
   "cell_type": "code",
   "execution_count": 2,
   "id": "43e35954",
   "metadata": {},
   "outputs": [],
   "source": [
    "import qiskit\n",
    "import numpy as np\n",
    "from qiskit import QuantumCircuit, QuantumRegister, ClassicalRegister\n",
    "from qiskit import IBMQ, Aer, transpile\n",
    "from qiskit.visualization import plot_histogram, plot_bloch_multivector, array_to_latex\n",
    "from qiskit.extensions import Initialize\n",
    "from qiskit.result import marginal_counts\n",
    "from qiskit.quantum_info import random_statevector\n",
    "from qiskit.providers.aer import AerSimulator\n",
    "from qiskit.visualization import array_to_latex\n",
    "from qiskit.quantum_info import state_fidelity\n",
    "from qiskit.quantum_info import Statevector"
   ]
  },
  {
   "cell_type": "code",
   "execution_count": 40,
   "id": "bf6f422d",
   "metadata": {},
   "outputs": [],
   "source": [
    "def ifbit(inqb,varc):\n",
    "\n",
    "    purinew = QuantumCircuit(3,varc)\n",
    "    \n",
    "    puri = purinew.compose(inqb,[0,1])\n",
    "    \n",
    "    puri.cx(0, 2)\n",
    "    puri.cx(1, 2)\n",
    "    \n",
    "    puri.cx(2,1)\n",
    "    \n",
    "    \n",
    "    return puri\n",
    "\n",
    "def ifphase(inqb):\n",
    "    qr = QuantumRegister(3, name=\"q\")\n",
    "    purinew = QuantumCircuit(qr)\n",
    "    \n",
    "    puri = purinew.compose(inqb,[0,1])\n",
    "    \n",
    "    puri.cx(2, 0)\n",
    "    puri.cx(2, 1)\n",
    "    \n",
    "    puri.cx(1,2)\n",
    "    \n",
    "    \n",
    "    return puri\n",
    "   "
   ]
  },
  {
   "cell_type": "code",
   "execution_count": 50,
   "id": "81c87ce1",
   "metadata": {},
   "outputs": [
    {
     "data": {
      "image/png": "[encoded data removed]",
      "text/plain": [
       "<Figure size 538.33x367.889 with 1 Axes>"
      ]
     },
     "execution_count": 50,
     "metadata": {},
     "output_type": "execute_result"
    }
   ],
   "source": [
    "var = 2\n",
    "varc = 1\n",
    "testqc = QuantumCircuit(var,varc)\n",
    "testqc.h(0)\n",
    "testqc.cx(0,1)\n",
    "#testqc.x(0)\n",
    "newqc = ifbit(testqc,varc)\n",
    "\n",
    "#newqc.measure(2,0)\n",
    "\n",
    "newqc.draw(\"mpl\")\n"
   ]
  },
  {
   "cell_type": "code",
   "execution_count": 48,
   "id": "e5a1c12d",
   "metadata": {},
   "outputs": [
    {
     "name": "stdout",
     "output_type": "stream",
     "text": [
      "0\n",
      "0\n",
      "0\n",
      "0\n",
      "0\n",
      "0\n",
      "0\n",
      "0\n",
      "0\n"
     ]
    }
   ],
   "source": [
    "simulator = AerSimulator()\n",
    "\n",
    "backende = Aer.get_backend('statevector_simulator')\n",
    "saveara = np.zeros(10)\n",
    "for i in range(1,10):\n",
    "    job = backende.run(newqc, shots = 1, memory=True)\n",
    "    output = job.result().get_memory()[0]\n",
    "    print(output)"
   ]
  },
  {
   "cell_type": "code",
   "execution_count": 51,
   "id": "18b67339",
   "metadata": {},
   "outputs": [
    {
     "data": {
      "text/latex": [
       "$$\\frac{\\sqrt{2}}{2} |000\\rangle+\\frac{\\sqrt{2}}{2} |011\\rangle$$"
      ],
      "text/plain": [
       "<IPython.core.display.Latex object>"
      ]
     },
     "execution_count": 51,
     "metadata": {},
     "output_type": "execute_result"
    }
   ],
   "source": [
    "state = Statevector.from_int(0, 2**3)\n",
    "\n",
    "# Evolve the state by the quantum circuit\n",
    "state = state.evolve(newqc)\n",
    "\n",
    "#draw using latex\n",
    "state.draw('latex')"
   ]
  },
  {
   "cell_type": "code",
   "execution_count": null,
   "id": "82daad35",
   "metadata": {},
   "outputs": [],
   "source": []
  }
 ],
 "metadata": {
  "kernelspec": {
   "display_name": "Python 3 (ipykernel)",
   "language": "python",
   "name": "python3"
  },
  "language_info": {
   "codemirror_mode": {
    "name": "ipython",
    "version": 3
   },
   "file_extension": ".py",
   "mimetype": "text/x-python",
   "name": "python",
   "nbconvert_exporter": "python",
   "pygments_lexer": "ipython3",
   "version": "3.9.13"
  }
 },
 "nbformat": 4,
 "nbformat_minor": 5
}
